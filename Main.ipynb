{
 "cells": [
  {
   "cell_type": "code",
   "execution_count": null,
   "metadata": {
    "collapsed": true,
    "pycharm": {
     "name": "#%%\n",
     "is_executing": true
    }
   },
   "outputs": [],
   "source": [
    "import keras.metrics\n",
    "import numpy as np\n",
    "import matplotlib.pyplot as plt\n",
    "import tensorflow as tf\n",
    "from tensorflow.keras.models import Sequential\n",
    "from tensorflow.keras.layers import Dense\n",
    "from tensorflow.keras.layers import Flatten\n",
    "from keras.utils import image_dataset_from_directory\n",
    "import pandas as pd\n",
    "import cv2\n",
    "\n",
    "\n",
    "print (len(tf.config.experimental.list_physical_devices('GPU')))\n"
   ]
  },
  {
   "cell_type": "code",
   "execution_count": null,
   "outputs": [],
   "source": [
    "Label_path = 'pizza_data/labels.csv'\n",
    "Image_base_path = 'pizza_data/images/'\n",
    "\n",
    "\n",
    "Data = pd.read_csv(Label_path)\n",
    "print(Data.shape)\n",
    "File_Name = Data['image_name']\n",
    "Images = []\n",
    "for name in File_Name:\n",
    "     Image_path = Image_base_path + name\n",
    "     newImage = cv2.imread(Image_path)\n",
    "     Images.append(newImage)\n",
    "Data['Image'] = Images"
   ],
   "metadata": {
    "collapsed": false,
    "pycharm": {
     "name": "#%%\n"
    }
   }
  }
 ],
 "metadata": {
  "kernelspec": {
   "display_name": "Python 3",
   "language": "python",
   "name": "python3"
  },
  "language_info": {
   "codemirror_mode": {
    "name": "ipython",
    "version": 2
   },
   "file_extension": ".py",
   "mimetype": "text/x-python",
   "name": "python",
   "nbconvert_exporter": "python",
   "pygments_lexer": "ipython2",
   "version": "2.7.6"
  }
 },
 "nbformat": 4,
 "nbformat_minor": 0
}